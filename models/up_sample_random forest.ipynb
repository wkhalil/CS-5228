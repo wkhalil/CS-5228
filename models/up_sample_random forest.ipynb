{
 "cells": [
  {
   "cell_type": "markdown",
   "metadata": {},
   "source": [
    "# random forest"
   ]
  },
  {
   "cell_type": "code",
   "execution_count": 12,
   "metadata": {},
   "outputs": [],
   "source": [
    "%matplotlib inline\n",
    "import numpy as np\n",
    "import pandas as pd\n",
    "import seaborn as sb\n",
    "from sklearn.model_selection import train_test_split, cross_val_score, GridSearchCV\n",
    "from sklearn import preprocessing\n",
    "from sklearn.ensemble import RandomForestClassifier\n",
    "from sklearn.metrics import accuracy_score, classification_report\n",
    "from sklearn.impute import SimpleImputer\n",
    "from imblearn.over_sampling import SMOTE\n",
    "\n",
    "from sklearn import tree\n",
    "import pydotplus\n",
    "from IPython.display import Image\n",
    "import matplotlib.pyplot as plt\n",
    "import warnings\n",
    "\n",
    "warnings.filterwarnings(\"ignore\")"
   ]
  },
  {
   "cell_type": "markdown",
   "metadata": {},
   "source": [
    "## data preprocess"
   ]
  },
  {
   "cell_type": "markdown",
   "metadata": {},
   "source": [
    "### read train.csv, preprocess"
   ]
  },
  {
   "cell_type": "code",
   "execution_count": 13,
   "metadata": {},
   "outputs": [
    {
     "name": "stdout",
     "output_type": "stream",
     "text": [
      "(24421, 14)\n"
     ]
    },
    {
     "data": {
      "text/html": [
       "<div>\n",
       "<style scoped>\n",
       "    .dataframe tbody tr th:only-of-type {\n",
       "        vertical-align: middle;\n",
       "    }\n",
       "\n",
       "    .dataframe tbody tr th {\n",
       "        vertical-align: top;\n",
       "    }\n",
       "\n",
       "    .dataframe thead th {\n",
       "        text-align: right;\n",
       "    }\n",
       "</style>\n",
       "<table border=\"1\" class=\"dataframe\">\n",
       "  <thead>\n",
       "    <tr style=\"text-align: right;\">\n",
       "      <th></th>\n",
       "      <th>age</th>\n",
       "      <th>workclass</th>\n",
       "      <th>fnlwgt</th>\n",
       "      <th>education</th>\n",
       "      <th>education-num</th>\n",
       "      <th>marital-status</th>\n",
       "      <th>occupation</th>\n",
       "      <th>relationship</th>\n",
       "      <th>sex</th>\n",
       "      <th>capital-gain</th>\n",
       "      <th>capital-loss</th>\n",
       "      <th>hours-per-week</th>\n",
       "      <th>native-country</th>\n",
       "      <th>exceeds50K</th>\n",
       "    </tr>\n",
       "  </thead>\n",
       "  <tbody>\n",
       "    <tr>\n",
       "      <th>0</th>\n",
       "      <td>30</td>\n",
       "      <td>?</td>\n",
       "      <td>147215</td>\n",
       "      <td>Some-college</td>\n",
       "      <td>10</td>\n",
       "      <td>Never-married</td>\n",
       "      <td>?</td>\n",
       "      <td>Own-child</td>\n",
       "      <td>Female</td>\n",
       "      <td>0</td>\n",
       "      <td>0</td>\n",
       "      <td>30</td>\n",
       "      <td>United-States</td>\n",
       "      <td>0</td>\n",
       "    </tr>\n",
       "    <tr>\n",
       "      <th>1</th>\n",
       "      <td>60</td>\n",
       "      <td>Private</td>\n",
       "      <td>173960</td>\n",
       "      <td>Bachelors</td>\n",
       "      <td>13</td>\n",
       "      <td>Divorced</td>\n",
       "      <td>Prof-specialty</td>\n",
       "      <td>Not-in-family</td>\n",
       "      <td>Female</td>\n",
       "      <td>0</td>\n",
       "      <td>0</td>\n",
       "      <td>42</td>\n",
       "      <td>United-States</td>\n",
       "      <td>0</td>\n",
       "    </tr>\n",
       "    <tr>\n",
       "      <th>2</th>\n",
       "      <td>52</td>\n",
       "      <td>?</td>\n",
       "      <td>105428</td>\n",
       "      <td>Some-college</td>\n",
       "      <td>10</td>\n",
       "      <td>Married-civ-spouse</td>\n",
       "      <td>?</td>\n",
       "      <td>Husband</td>\n",
       "      <td>Male</td>\n",
       "      <td>0</td>\n",
       "      <td>0</td>\n",
       "      <td>12</td>\n",
       "      <td>United-States</td>\n",
       "      <td>0</td>\n",
       "    </tr>\n",
       "    <tr>\n",
       "      <th>3</th>\n",
       "      <td>37</td>\n",
       "      <td>Private</td>\n",
       "      <td>112497</td>\n",
       "      <td>Bachelors</td>\n",
       "      <td>13</td>\n",
       "      <td>Married-civ-spouse</td>\n",
       "      <td>Sales</td>\n",
       "      <td>Husband</td>\n",
       "      <td>Male</td>\n",
       "      <td>0</td>\n",
       "      <td>0</td>\n",
       "      <td>60</td>\n",
       "      <td>United-States</td>\n",
       "      <td>0</td>\n",
       "    </tr>\n",
       "    <tr>\n",
       "      <th>4</th>\n",
       "      <td>63</td>\n",
       "      <td>Private</td>\n",
       "      <td>137843</td>\n",
       "      <td>Some-college</td>\n",
       "      <td>10</td>\n",
       "      <td>Married-civ-spouse</td>\n",
       "      <td>Sales</td>\n",
       "      <td>Husband</td>\n",
       "      <td>Male</td>\n",
       "      <td>7298</td>\n",
       "      <td>0</td>\n",
       "      <td>48</td>\n",
       "      <td>United-States</td>\n",
       "      <td>1</td>\n",
       "    </tr>\n",
       "  </tbody>\n",
       "</table>\n",
       "</div>"
      ],
      "text/plain": [
       "   age workclass  fnlwgt      education  education-num       marital-status  \\\n",
       "0   30         ?  147215   Some-college             10        Never-married   \n",
       "1   60   Private  173960      Bachelors             13             Divorced   \n",
       "2   52         ?  105428   Some-college             10   Married-civ-spouse   \n",
       "3   37   Private  112497      Bachelors             13   Married-civ-spouse   \n",
       "4   63   Private  137843   Some-college             10   Married-civ-spouse   \n",
       "\n",
       "        occupation    relationship      sex  capital-gain  capital-loss  \\\n",
       "0                ?       Own-child   Female             0             0   \n",
       "1   Prof-specialty   Not-in-family   Female             0             0   \n",
       "2                ?         Husband     Male             0             0   \n",
       "3            Sales         Husband     Male             0             0   \n",
       "4            Sales         Husband     Male          7298             0   \n",
       "\n",
       "   hours-per-week  native-country  exceeds50K  \n",
       "0              30   United-States           0  \n",
       "1              42   United-States           0  \n",
       "2              12   United-States           0  \n",
       "3              60   United-States           0  \n",
       "4              48   United-States           1  "
      ]
     },
     "execution_count": 13,
     "metadata": {},
     "output_type": "execute_result"
    }
   ],
   "source": [
    "# load data & show head\n",
    "df = pd.read_csv('../cs5228/train.csv')\n",
    "print(df.shape)\n",
    "df.head()"
   ]
  },
  {
   "cell_type": "code",
   "execution_count": 14,
   "metadata": {},
   "outputs": [
    {
     "data": {
      "text/html": [
       "<div>\n",
       "<style scoped>\n",
       "    .dataframe tbody tr th:only-of-type {\n",
       "        vertical-align: middle;\n",
       "    }\n",
       "\n",
       "    .dataframe tbody tr th {\n",
       "        vertical-align: top;\n",
       "    }\n",
       "\n",
       "    .dataframe thead th {\n",
       "        text-align: right;\n",
       "    }\n",
       "</style>\n",
       "<table border=\"1\" class=\"dataframe\">\n",
       "  <thead>\n",
       "    <tr style=\"text-align: right;\">\n",
       "      <th></th>\n",
       "      <th>age</th>\n",
       "      <th>workclass</th>\n",
       "      <th>fnlwgt</th>\n",
       "      <th>education</th>\n",
       "      <th>education-num</th>\n",
       "      <th>marital-status</th>\n",
       "      <th>occupation</th>\n",
       "      <th>relationship</th>\n",
       "      <th>sex</th>\n",
       "      <th>capital-gain</th>\n",
       "      <th>capital-loss</th>\n",
       "      <th>hours-per-week</th>\n",
       "      <th>native-country</th>\n",
       "    </tr>\n",
       "  </thead>\n",
       "  <tbody>\n",
       "    <tr>\n",
       "      <th>0</th>\n",
       "      <td>30</td>\n",
       "      <td>?</td>\n",
       "      <td>147215</td>\n",
       "      <td>Some-college</td>\n",
       "      <td>10</td>\n",
       "      <td>Never-married</td>\n",
       "      <td>?</td>\n",
       "      <td>Own-child</td>\n",
       "      <td>Female</td>\n",
       "      <td>0</td>\n",
       "      <td>0</td>\n",
       "      <td>30</td>\n",
       "      <td>United-States</td>\n",
       "    </tr>\n",
       "    <tr>\n",
       "      <th>1</th>\n",
       "      <td>60</td>\n",
       "      <td>Private</td>\n",
       "      <td>173960</td>\n",
       "      <td>Bachelors</td>\n",
       "      <td>13</td>\n",
       "      <td>Divorced</td>\n",
       "      <td>Prof-specialty</td>\n",
       "      <td>Not-in-family</td>\n",
       "      <td>Female</td>\n",
       "      <td>0</td>\n",
       "      <td>0</td>\n",
       "      <td>42</td>\n",
       "      <td>United-States</td>\n",
       "    </tr>\n",
       "    <tr>\n",
       "      <th>2</th>\n",
       "      <td>52</td>\n",
       "      <td>?</td>\n",
       "      <td>105428</td>\n",
       "      <td>Some-college</td>\n",
       "      <td>10</td>\n",
       "      <td>Married-civ-spouse</td>\n",
       "      <td>?</td>\n",
       "      <td>Husband</td>\n",
       "      <td>Male</td>\n",
       "      <td>0</td>\n",
       "      <td>0</td>\n",
       "      <td>12</td>\n",
       "      <td>United-States</td>\n",
       "    </tr>\n",
       "  </tbody>\n",
       "</table>\n",
       "</div>"
      ],
      "text/plain": [
       "   age workclass  fnlwgt      education  education-num       marital-status  \\\n",
       "0   30         ?  147215   Some-college             10        Never-married   \n",
       "1   60   Private  173960      Bachelors             13             Divorced   \n",
       "2   52         ?  105428   Some-college             10   Married-civ-spouse   \n",
       "\n",
       "        occupation    relationship      sex  capital-gain  capital-loss  \\\n",
       "0                ?       Own-child   Female             0             0   \n",
       "1   Prof-specialty   Not-in-family   Female             0             0   \n",
       "2                ?         Husband     Male             0             0   \n",
       "\n",
       "   hours-per-week  native-country  \n",
       "0              30   United-States  \n",
       "1              42   United-States  \n",
       "2              12   United-States  "
      ]
     },
     "execution_count": 14,
     "metadata": {},
     "output_type": "execute_result"
    }
   ],
   "source": [
    "# split features and labels\n",
    "X = df.drop(['exceeds50K'],axis=1)\n",
    "Y = df['exceeds50K']\n",
    "X.head(3)"
   ]
  },
  {
   "cell_type": "markdown",
   "metadata": {},
   "source": [
    "### read test.csv, preprocess"
   ]
  },
  {
   "cell_type": "code",
   "execution_count": 15,
   "metadata": {},
   "outputs": [
    {
     "name": "stdout",
     "output_type": "stream",
     "text": [
      "(24421, 13)\n"
     ]
    },
    {
     "data": {
      "text/html": [
       "<div>\n",
       "<style scoped>\n",
       "    .dataframe tbody tr th:only-of-type {\n",
       "        vertical-align: middle;\n",
       "    }\n",
       "\n",
       "    .dataframe tbody tr th {\n",
       "        vertical-align: top;\n",
       "    }\n",
       "\n",
       "    .dataframe thead th {\n",
       "        text-align: right;\n",
       "    }\n",
       "</style>\n",
       "<table border=\"1\" class=\"dataframe\">\n",
       "  <thead>\n",
       "    <tr style=\"text-align: right;\">\n",
       "      <th></th>\n",
       "      <th>age</th>\n",
       "      <th>workclass</th>\n",
       "      <th>fnlwgt</th>\n",
       "      <th>education</th>\n",
       "      <th>education-num</th>\n",
       "      <th>marital-status</th>\n",
       "      <th>occupation</th>\n",
       "      <th>relationship</th>\n",
       "      <th>sex</th>\n",
       "      <th>capital-gain</th>\n",
       "      <th>capital-loss</th>\n",
       "      <th>hours-per-week</th>\n",
       "      <th>native-country</th>\n",
       "    </tr>\n",
       "  </thead>\n",
       "  <tbody>\n",
       "    <tr>\n",
       "      <th>0</th>\n",
       "      <td>23</td>\n",
       "      <td>Private</td>\n",
       "      <td>32732</td>\n",
       "      <td>Some-college</td>\n",
       "      <td>10</td>\n",
       "      <td>Married-civ-spouse</td>\n",
       "      <td>Sales</td>\n",
       "      <td>Husband</td>\n",
       "      <td>Male</td>\n",
       "      <td>0</td>\n",
       "      <td>0</td>\n",
       "      <td>25</td>\n",
       "      <td>United-States</td>\n",
       "    </tr>\n",
       "    <tr>\n",
       "      <th>1</th>\n",
       "      <td>69</td>\n",
       "      <td>Private</td>\n",
       "      <td>165017</td>\n",
       "      <td>HS-grad</td>\n",
       "      <td>9</td>\n",
       "      <td>Widowed</td>\n",
       "      <td>Machine-op-inspct</td>\n",
       "      <td>Unmarried</td>\n",
       "      <td>Male</td>\n",
       "      <td>2538</td>\n",
       "      <td>0</td>\n",
       "      <td>40</td>\n",
       "      <td>United-States</td>\n",
       "    </tr>\n",
       "    <tr>\n",
       "      <th>2</th>\n",
       "      <td>27</td>\n",
       "      <td>Private</td>\n",
       "      <td>36440</td>\n",
       "      <td>Bachelors</td>\n",
       "      <td>13</td>\n",
       "      <td>Never-married</td>\n",
       "      <td>Sales</td>\n",
       "      <td>Not-in-family</td>\n",
       "      <td>Female</td>\n",
       "      <td>0</td>\n",
       "      <td>0</td>\n",
       "      <td>40</td>\n",
       "      <td>United-States</td>\n",
       "    </tr>\n",
       "  </tbody>\n",
       "</table>\n",
       "</div>"
      ],
      "text/plain": [
       "   age workclass  fnlwgt      education  education-num       marital-status  \\\n",
       "0   23   Private   32732   Some-college             10   Married-civ-spouse   \n",
       "1   69   Private  165017        HS-grad              9              Widowed   \n",
       "2   27   Private   36440      Bachelors             13        Never-married   \n",
       "\n",
       "           occupation    relationship      sex  capital-gain  capital-loss  \\\n",
       "0               Sales         Husband     Male             0             0   \n",
       "1   Machine-op-inspct       Unmarried     Male          2538             0   \n",
       "2               Sales   Not-in-family   Female             0             0   \n",
       "\n",
       "   hours-per-week  native-country  \n",
       "0              25   United-States  \n",
       "1              40   United-States  \n",
       "2              40   United-States  "
      ]
     },
     "execution_count": 15,
     "metadata": {},
     "output_type": "execute_result"
    }
   ],
   "source": [
    "df_test = pd.read_csv('../cs5228/test.csv')\n",
    "print(df_test.shape)\n",
    "X_test = df_test\n",
    "df_test.head(3)"
   ]
  },
  {
   "cell_type": "code",
   "execution_count": 16,
   "metadata": {},
   "outputs": [
    {
     "name": "stdout",
     "output_type": "stream",
     "text": [
      "missing value count in train.scv\n",
      "age   0\n",
      "workclass   1392\n",
      "fnlwgt   0\n",
      "education   0\n",
      "education-num   0\n",
      "marital-status   0\n",
      "occupation   1399\n",
      "relationship   0\n",
      "sex   0\n",
      "capital-gain   0\n",
      "capital-loss   0\n",
      "hours-per-week   0\n",
      "native-country   410\n",
      "\n",
      "missing value count in test.csv\n",
      "age   0\n",
      "workclass   1407\n",
      "fnlwgt   0\n",
      "education   0\n",
      "education-num   0\n",
      "marital-status   0\n",
      "occupation   1410\n",
      "relationship   0\n",
      "sex   0\n",
      "capital-gain   0\n",
      "capital-loss   0\n",
      "hours-per-week   0\n",
      "native-country   447\n"
     ]
    },
    {
     "data": {
      "text/html": [
       "<div>\n",
       "<style scoped>\n",
       "    .dataframe tbody tr th:only-of-type {\n",
       "        vertical-align: middle;\n",
       "    }\n",
       "\n",
       "    .dataframe tbody tr th {\n",
       "        vertical-align: top;\n",
       "    }\n",
       "\n",
       "    .dataframe thead th {\n",
       "        text-align: right;\n",
       "    }\n",
       "</style>\n",
       "<table border=\"1\" class=\"dataframe\">\n",
       "  <thead>\n",
       "    <tr style=\"text-align: right;\">\n",
       "      <th></th>\n",
       "      <th>age</th>\n",
       "      <th>workclass</th>\n",
       "      <th>fnlwgt</th>\n",
       "      <th>education</th>\n",
       "      <th>education-num</th>\n",
       "      <th>marital-status</th>\n",
       "      <th>occupation</th>\n",
       "      <th>relationship</th>\n",
       "      <th>sex</th>\n",
       "      <th>capital-gain</th>\n",
       "      <th>capital-loss</th>\n",
       "      <th>hours-per-week</th>\n",
       "      <th>native-country</th>\n",
       "    </tr>\n",
       "  </thead>\n",
       "  <tbody>\n",
       "    <tr>\n",
       "      <th>0</th>\n",
       "      <td>30</td>\n",
       "      <td>Private</td>\n",
       "      <td>147215</td>\n",
       "      <td>Some-college</td>\n",
       "      <td>10</td>\n",
       "      <td>Never-married</td>\n",
       "      <td>Prof-specialty</td>\n",
       "      <td>Own-child</td>\n",
       "      <td>Female</td>\n",
       "      <td>0</td>\n",
       "      <td>0</td>\n",
       "      <td>30</td>\n",
       "      <td>United-States</td>\n",
       "    </tr>\n",
       "    <tr>\n",
       "      <th>1</th>\n",
       "      <td>60</td>\n",
       "      <td>Private</td>\n",
       "      <td>173960</td>\n",
       "      <td>Bachelors</td>\n",
       "      <td>13</td>\n",
       "      <td>Divorced</td>\n",
       "      <td>Prof-specialty</td>\n",
       "      <td>Not-in-family</td>\n",
       "      <td>Female</td>\n",
       "      <td>0</td>\n",
       "      <td>0</td>\n",
       "      <td>42</td>\n",
       "      <td>United-States</td>\n",
       "    </tr>\n",
       "    <tr>\n",
       "      <th>2</th>\n",
       "      <td>52</td>\n",
       "      <td>Private</td>\n",
       "      <td>105428</td>\n",
       "      <td>Some-college</td>\n",
       "      <td>10</td>\n",
       "      <td>Married-civ-spouse</td>\n",
       "      <td>Prof-specialty</td>\n",
       "      <td>Husband</td>\n",
       "      <td>Male</td>\n",
       "      <td>0</td>\n",
       "      <td>0</td>\n",
       "      <td>12</td>\n",
       "      <td>United-States</td>\n",
       "    </tr>\n",
       "  </tbody>\n",
       "</table>\n",
       "</div>"
      ],
      "text/plain": [
       "  age workclass  fnlwgt      education education-num       marital-status  \\\n",
       "0  30   Private  147215   Some-college            10        Never-married   \n",
       "1  60   Private  173960      Bachelors            13             Divorced   \n",
       "2  52   Private  105428   Some-college            10   Married-civ-spouse   \n",
       "\n",
       "        occupation    relationship      sex capital-gain capital-loss  \\\n",
       "0   Prof-specialty       Own-child   Female            0            0   \n",
       "1   Prof-specialty   Not-in-family   Female            0            0   \n",
       "2   Prof-specialty         Husband     Male            0            0   \n",
       "\n",
       "  hours-per-week  native-country  \n",
       "0             30   United-States  \n",
       "1             42   United-States  \n",
       "2             12   United-States  "
      ]
     },
     "execution_count": 16,
     "metadata": {},
     "output_type": "execute_result"
    }
   ],
   "source": [
    "# replace missing value ' ?' by mode\n",
    "\n",
    "feature_list = X.columns\n",
    "\n",
    "# count missing value ' ?' \n",
    "print('missing value count in train.scv')\n",
    "for feature in feature_list:\n",
    "    print(feature, ' ', len(X[X[feature] == ' ?']))\n",
    "\n",
    "print('\\nmissing value count in test.csv')\n",
    "for feature in feature_list:\n",
    "    print(feature, ' ', len(X_test[X_test[feature]==' ?']))\n",
    "\n",
    "# replace\n",
    "X_all = pd.concat([X,X_test], axis = 0)\n",
    "imputer = SimpleImputer(missing_values=' ?', strategy='most_frequent')\n",
    "imputer.fit(X_all)\n",
    "X = pd.DataFrame(imputer.transform(X), columns = feature_list)\n",
    "X_test = pd.DataFrame(imputer.transform(X_test), columns = feature_list)\n",
    "X.head(3)"
   ]
  },
  {
   "cell_type": "code",
   "execution_count": 17,
   "metadata": {},
   "outputs": [
    {
     "name": "stdout",
     "output_type": "stream",
     "text": [
      "{' Married-spouse-absent', ' Married-AF-spouse', ' Separated', ' Married-civ-spouse', ' Widowed', ' Divorced', ' Never-married'}\n"
     ]
    },
    {
     "data": {
      "text/html": [
       "<div>\n",
       "<style scoped>\n",
       "    .dataframe tbody tr th:only-of-type {\n",
       "        vertical-align: middle;\n",
       "    }\n",
       "\n",
       "    .dataframe tbody tr th {\n",
       "        vertical-align: top;\n",
       "    }\n",
       "\n",
       "    .dataframe thead th {\n",
       "        text-align: right;\n",
       "    }\n",
       "</style>\n",
       "<table border=\"1\" class=\"dataframe\">\n",
       "  <thead>\n",
       "    <tr style=\"text-align: right;\">\n",
       "      <th></th>\n",
       "      <th>age</th>\n",
       "      <th>workclass</th>\n",
       "      <th>fnlwgt</th>\n",
       "      <th>education</th>\n",
       "      <th>education-num</th>\n",
       "      <th>marital-status</th>\n",
       "      <th>occupation</th>\n",
       "      <th>relationship</th>\n",
       "      <th>sex</th>\n",
       "      <th>capital-gain</th>\n",
       "      <th>capital-loss</th>\n",
       "      <th>hours-per-week</th>\n",
       "      <th>native-country</th>\n",
       "    </tr>\n",
       "  </thead>\n",
       "  <tbody>\n",
       "    <tr>\n",
       "      <th>0</th>\n",
       "      <td>30</td>\n",
       "      <td>Private</td>\n",
       "      <td>147215</td>\n",
       "      <td>Some-college</td>\n",
       "      <td>10</td>\n",
       "      <td>single</td>\n",
       "      <td>Prof-specialty</td>\n",
       "      <td>Own-child</td>\n",
       "      <td>Female</td>\n",
       "      <td>0</td>\n",
       "      <td>0</td>\n",
       "      <td>30</td>\n",
       "      <td>United-States</td>\n",
       "    </tr>\n",
       "    <tr>\n",
       "      <th>1</th>\n",
       "      <td>60</td>\n",
       "      <td>Private</td>\n",
       "      <td>173960</td>\n",
       "      <td>Bachelors</td>\n",
       "      <td>13</td>\n",
       "      <td>single</td>\n",
       "      <td>Prof-specialty</td>\n",
       "      <td>Not-in-family</td>\n",
       "      <td>Female</td>\n",
       "      <td>0</td>\n",
       "      <td>0</td>\n",
       "      <td>42</td>\n",
       "      <td>United-States</td>\n",
       "    </tr>\n",
       "    <tr>\n",
       "      <th>2</th>\n",
       "      <td>52</td>\n",
       "      <td>Private</td>\n",
       "      <td>105428</td>\n",
       "      <td>Some-college</td>\n",
       "      <td>10</td>\n",
       "      <td>married</td>\n",
       "      <td>Prof-specialty</td>\n",
       "      <td>Husband</td>\n",
       "      <td>Male</td>\n",
       "      <td>0</td>\n",
       "      <td>0</td>\n",
       "      <td>12</td>\n",
       "      <td>United-States</td>\n",
       "    </tr>\n",
       "    <tr>\n",
       "      <th>3</th>\n",
       "      <td>37</td>\n",
       "      <td>Private</td>\n",
       "      <td>112497</td>\n",
       "      <td>Bachelors</td>\n",
       "      <td>13</td>\n",
       "      <td>married</td>\n",
       "      <td>Sales</td>\n",
       "      <td>Husband</td>\n",
       "      <td>Male</td>\n",
       "      <td>0</td>\n",
       "      <td>0</td>\n",
       "      <td>60</td>\n",
       "      <td>United-States</td>\n",
       "    </tr>\n",
       "    <tr>\n",
       "      <th>4</th>\n",
       "      <td>63</td>\n",
       "      <td>Private</td>\n",
       "      <td>137843</td>\n",
       "      <td>Some-college</td>\n",
       "      <td>10</td>\n",
       "      <td>married</td>\n",
       "      <td>Sales</td>\n",
       "      <td>Husband</td>\n",
       "      <td>Male</td>\n",
       "      <td>7298</td>\n",
       "      <td>0</td>\n",
       "      <td>48</td>\n",
       "      <td>United-States</td>\n",
       "    </tr>\n",
       "  </tbody>\n",
       "</table>\n",
       "</div>"
      ],
      "text/plain": [
       "  age workclass  fnlwgt      education education-num marital-status  \\\n",
       "0  30   Private  147215   Some-college            10         single   \n",
       "1  60   Private  173960      Bachelors            13         single   \n",
       "2  52   Private  105428   Some-college            10        married   \n",
       "3  37   Private  112497      Bachelors            13        married   \n",
       "4  63   Private  137843   Some-college            10        married   \n",
       "\n",
       "        occupation    relationship      sex capital-gain capital-loss  \\\n",
       "0   Prof-specialty       Own-child   Female            0            0   \n",
       "1   Prof-specialty   Not-in-family   Female            0            0   \n",
       "2   Prof-specialty         Husband     Male            0            0   \n",
       "3            Sales         Husband     Male            0            0   \n",
       "4            Sales         Husband     Male         7298            0   \n",
       "\n",
       "  hours-per-week  native-country  \n",
       "0             30   United-States  \n",
       "1             42   United-States  \n",
       "2             12   United-States  \n",
       "3             60   United-States  \n",
       "4             48   United-States  "
      ]
     },
     "execution_count": 17,
     "metadata": {},
     "output_type": "execute_result"
    }
   ],
   "source": [
    "# marital-status into single, married\n",
    "print(set(X['marital-status'].values))\n",
    "single_list = [' Separated', ' Divorced', ' Widowed', ' Never-married']\n",
    "married_list = [' Married-AF-spouse', ' Married-spouse-absent', ' Married-civ-spouse']\n",
    "\n",
    "X['marital-status'][X['marital-status'].isin(married_list)] = 'married'\n",
    "X['marital-status'][X['marital-status'].isin(single_list)] = 'single'\n",
    "X_test['marital-status'][X_test['marital-status'].isin(married_list)] = 'married'\n",
    "X_test['marital-status'][X_test['marital-status'].isin(single_list)] = 'single'\n",
    "X.head()"
   ]
  },
  {
   "cell_type": "markdown",
   "metadata": {},
   "source": [
    "### embedding, train&test data together"
   ]
  },
  {
   "cell_type": "code",
   "execution_count": 18,
   "metadata": {},
   "outputs": [
    {
     "data": {
      "text/html": [
       "<div>\n",
       "<style scoped>\n",
       "    .dataframe tbody tr th:only-of-type {\n",
       "        vertical-align: middle;\n",
       "    }\n",
       "\n",
       "    .dataframe tbody tr th {\n",
       "        vertical-align: top;\n",
       "    }\n",
       "\n",
       "    .dataframe thead th {\n",
       "        text-align: right;\n",
       "    }\n",
       "</style>\n",
       "<table border=\"1\" class=\"dataframe\">\n",
       "  <thead>\n",
       "    <tr style=\"text-align: right;\">\n",
       "      <th></th>\n",
       "      <th>age</th>\n",
       "      <th>workclass</th>\n",
       "      <th>fnlwgt</th>\n",
       "      <th>education</th>\n",
       "      <th>education-num</th>\n",
       "      <th>marital-status</th>\n",
       "      <th>occupation</th>\n",
       "      <th>relationship</th>\n",
       "      <th>sex</th>\n",
       "      <th>capital-gain</th>\n",
       "      <th>capital-loss</th>\n",
       "      <th>hours-per-week</th>\n",
       "      <th>native-country</th>\n",
       "    </tr>\n",
       "  </thead>\n",
       "  <tbody>\n",
       "    <tr>\n",
       "      <th>0</th>\n",
       "      <td>30</td>\n",
       "      <td>3</td>\n",
       "      <td>147215</td>\n",
       "      <td>15</td>\n",
       "      <td>10</td>\n",
       "      <td>1</td>\n",
       "      <td>9</td>\n",
       "      <td>3</td>\n",
       "      <td>0</td>\n",
       "      <td>0</td>\n",
       "      <td>0</td>\n",
       "      <td>30</td>\n",
       "      <td>38</td>\n",
       "    </tr>\n",
       "    <tr>\n",
       "      <th>1</th>\n",
       "      <td>60</td>\n",
       "      <td>3</td>\n",
       "      <td>173960</td>\n",
       "      <td>9</td>\n",
       "      <td>13</td>\n",
       "      <td>1</td>\n",
       "      <td>9</td>\n",
       "      <td>1</td>\n",
       "      <td>0</td>\n",
       "      <td>0</td>\n",
       "      <td>0</td>\n",
       "      <td>42</td>\n",
       "      <td>38</td>\n",
       "    </tr>\n",
       "    <tr>\n",
       "      <th>2</th>\n",
       "      <td>52</td>\n",
       "      <td>3</td>\n",
       "      <td>105428</td>\n",
       "      <td>15</td>\n",
       "      <td>10</td>\n",
       "      <td>0</td>\n",
       "      <td>9</td>\n",
       "      <td>0</td>\n",
       "      <td>1</td>\n",
       "      <td>0</td>\n",
       "      <td>0</td>\n",
       "      <td>12</td>\n",
       "      <td>38</td>\n",
       "    </tr>\n",
       "  </tbody>\n",
       "</table>\n",
       "</div>"
      ],
      "text/plain": [
       "  age  workclass  fnlwgt  education education-num  marital-status  occupation  \\\n",
       "0  30          3  147215         15            10               1           9   \n",
       "1  60          3  173960          9            13               1           9   \n",
       "2  52          3  105428         15            10               0           9   \n",
       "\n",
       "   relationship  sex capital-gain capital-loss hours-per-week  native-country  \n",
       "0             3    0            0            0             30              38  \n",
       "1             1    0            0            0             42              38  \n",
       "2             0    1            0            0             12              38  "
      ]
     },
     "execution_count": 18,
     "metadata": {},
     "output_type": "execute_result"
    }
   ],
   "source": [
    "# transfer string feature into int\n",
    "\n",
    "# features in string to be encoded\n",
    "encoding_features = ['workclass','education','marital-status','occupation','relationship','sex','native-country']\n",
    "\n",
    "# to include all possible values\n",
    "X_all = pd.concat([X,X_test], axis = 0)\n",
    "for feature in encoding_features:\n",
    "    encoder = preprocessing.LabelEncoder()\n",
    "    encoder.fit(X_all[feature])\n",
    "    X[feature] = encoder.transform(X[feature])\n",
    "    X_test[feature] = encoder.transform(X_test[feature])\n",
    "\n",
    "X.head(3)"
   ]
  },
  {
   "cell_type": "code",
   "execution_count": 19,
   "metadata": {},
   "outputs": [
    {
     "data": {
      "text/html": [
       "<div>\n",
       "<style scoped>\n",
       "    .dataframe tbody tr th:only-of-type {\n",
       "        vertical-align: middle;\n",
       "    }\n",
       "\n",
       "    .dataframe tbody tr th {\n",
       "        vertical-align: top;\n",
       "    }\n",
       "\n",
       "    .dataframe thead th {\n",
       "        text-align: right;\n",
       "    }\n",
       "</style>\n",
       "<table border=\"1\" class=\"dataframe\">\n",
       "  <thead>\n",
       "    <tr style=\"text-align: right;\">\n",
       "      <th></th>\n",
       "      <th>age</th>\n",
       "      <th>workclass</th>\n",
       "      <th>fnlwgt</th>\n",
       "      <th>education</th>\n",
       "      <th>education-num</th>\n",
       "      <th>marital-status</th>\n",
       "      <th>occupation</th>\n",
       "      <th>relationship</th>\n",
       "      <th>sex</th>\n",
       "      <th>capital-gain</th>\n",
       "      <th>capital-loss</th>\n",
       "      <th>hours-per-week</th>\n",
       "      <th>native-country</th>\n",
       "    </tr>\n",
       "  </thead>\n",
       "  <tbody>\n",
       "    <tr>\n",
       "      <th>0</th>\n",
       "      <td>-0.627855</td>\n",
       "      <td>-0.086978</td>\n",
       "      <td>-0.397416</td>\n",
       "      <td>1.218346</td>\n",
       "      <td>-0.037490</td>\n",
       "      <td>0.946594</td>\n",
       "      <td>0.714447</td>\n",
       "      <td>0.965669</td>\n",
       "      <td>-1.421717</td>\n",
       "      <td>-0.145954</td>\n",
       "      <td>-0.216863</td>\n",
       "      <td>-0.849954</td>\n",
       "      <td>0.263597</td>\n",
       "    </tr>\n",
       "    <tr>\n",
       "      <th>1</th>\n",
       "      <td>1.565644</td>\n",
       "      <td>-0.086978</td>\n",
       "      <td>-0.141947</td>\n",
       "      <td>-0.335686</td>\n",
       "      <td>1.127814</td>\n",
       "      <td>0.946594</td>\n",
       "      <td>0.714447</td>\n",
       "      <td>-0.279387</td>\n",
       "      <td>-1.421717</td>\n",
       "      <td>-0.145954</td>\n",
       "      <td>-0.216863</td>\n",
       "      <td>0.120349</td>\n",
       "      <td>0.263597</td>\n",
       "    </tr>\n",
       "    <tr>\n",
       "      <th>2</th>\n",
       "      <td>0.980711</td>\n",
       "      <td>-0.086978</td>\n",
       "      <td>-0.796568</td>\n",
       "      <td>1.218346</td>\n",
       "      <td>-0.037490</td>\n",
       "      <td>-1.056419</td>\n",
       "      <td>0.714447</td>\n",
       "      <td>-0.901915</td>\n",
       "      <td>0.703375</td>\n",
       "      <td>-0.145954</td>\n",
       "      <td>-0.216863</td>\n",
       "      <td>-2.305408</td>\n",
       "      <td>0.263597</td>\n",
       "    </tr>\n",
       "  </tbody>\n",
       "</table>\n",
       "</div>"
      ],
      "text/plain": [
       "        age  workclass    fnlwgt  education  education-num  marital-status  \\\n",
       "0 -0.627855  -0.086978 -0.397416   1.218346      -0.037490        0.946594   \n",
       "1  1.565644  -0.086978 -0.141947  -0.335686       1.127814        0.946594   \n",
       "2  0.980711  -0.086978 -0.796568   1.218346      -0.037490       -1.056419   \n",
       "\n",
       "   occupation  relationship       sex  capital-gain  capital-loss  \\\n",
       "0    0.714447      0.965669 -1.421717     -0.145954     -0.216863   \n",
       "1    0.714447     -0.279387 -1.421717     -0.145954     -0.216863   \n",
       "2    0.714447     -0.901915  0.703375     -0.145954     -0.216863   \n",
       "\n",
       "   hours-per-week  native-country  \n",
       "0       -0.849954        0.263597  \n",
       "1        0.120349        0.263597  \n",
       "2       -2.305408        0.263597  "
      ]
     },
     "execution_count": 19,
     "metadata": {},
     "output_type": "execute_result"
    }
   ],
   "source": [
    "# feature scaling\n",
    "\n",
    "scaler = preprocessing.StandardScaler()\n",
    "\n",
    "X = pd.DataFrame(scaler.fit_transform(X), columns = feature_list)\n",
    "X_test = pd.DataFrame(scaler.transform(X_test), columns = feature_list)\n",
    "X.head(3)"
   ]
  },
  {
   "cell_type": "markdown",
   "metadata": {},
   "source": [
    "### up sampling"
   ]
  },
  {
   "cell_type": "code",
   "execution_count": 20,
   "metadata": {},
   "outputs": [
    {
     "name": "stdout",
     "output_type": "stream",
     "text": [
      "original 0    18560\n",
      "1     5861\n",
      "Name: exceeds50K, dtype: int64\n",
      "\n",
      " up sampling 1    18560\n",
      "0    18560\n",
      "Name: exceeds50K, dtype: int64\n"
     ]
    }
   ],
   "source": [
    "print('original', Y.value_counts())\n",
    "# smote = SMOTE(sampling_strategy = {1:12000},random_state = 5228)\n",
    "smote = SMOTE(random_state = 5228)\n",
    "X,Y = smote.fit_sample(X,Y)\n",
    "print('\\n up sampling',Y.value_counts())\n",
    "X_train ,X_val, Y_train, Y_val = train_test_split(X, Y, test_size=0.3, random_state = 0)"
   ]
  },
  {
   "cell_type": "markdown",
   "metadata": {},
   "source": [
    "## random forest training"
   ]
  },
  {
   "cell_type": "code",
   "execution_count": 21,
   "metadata": {},
   "outputs": [
    {
     "data": {
      "text/plain": [
       "0.8921515804597702"
      ]
     },
     "execution_count": 21,
     "metadata": {},
     "output_type": "execute_result"
    }
   ],
   "source": [
    "clf = RandomForestClassifier(n_estimators=50)\n",
    "clf.fit(X_train, Y_train)\n",
    "Y_pred = clf.predict(X_val)\n",
    "accuracy_score(Y_val,Y_pred)"
   ]
  },
  {
   "cell_type": "markdown",
   "metadata": {},
   "source": [
    "### adjusting and improving hyperparameters"
   ]
  },
  {
   "cell_type": "markdown",
   "metadata": {},
   "source": [
    "#### try n_estimator"
   ]
  },
  {
   "cell_type": "code",
   "execution_count": 22,
   "metadata": {},
   "outputs": [
    {
     "name": "stdout",
     "output_type": "stream",
     "text": [
      "0.901427801724138 131\n"
     ]
    },
    {
     "data": {
      "image/png": "[encoded data removed]",
      "text/plain": [
       "<Figure size 1440x360 with 1 Axes>"
      ]
     },
     "metadata": {
      "needs_background": "light"
     },
     "output_type": "display_data"
    }
   ],
   "source": [
    "# n_estimator, large scale\n",
    "score_list = []\n",
    "for i in range(1, 200, 10):\n",
    "    clf = RandomForestClassifier(n_estimators = i, n_jobs=-1, random_state=90)\n",
    "    score = cross_val_score(clf, X, Y, cv=10).mean()\n",
    "    score_list.append(score)\n",
    "print(max(score_list), score_list.index(max(score_list))*10+1)\n",
    "plt.figure(figsize=[20,5])\n",
    "plt.plot(range(1, 200, 10), score_list)\n",
    "plt.title(\"n_estimators large scale\", fontsize=25)\n",
    "plt.show()"
   ]
  },
  {
   "cell_type": "code",
   "execution_count": 23,
   "metadata": {},
   "outputs": [
    {
     "name": "stdout",
     "output_type": "stream",
     "text": [
      "0.9017241379310346 130\n"
     ]
    },
    {
     "data": {
      "image/png": "[encoded data removed]",
      "text/plain": [
       "<Figure size 1440x360 with 1 Axes>"
      ]
     },
     "metadata": {
      "needs_background": "light"
     },
     "output_type": "display_data"
    }
   ],
   "source": [
    "# n_estimator, fine tuning\n",
    "score_list = []\n",
    "for i in range(120, 140):\n",
    "    clf = RandomForestClassifier(n_estimators = i, n_jobs=-1, random_state=90)\n",
    "    score = cross_val_score(clf, X, Y, cv=10).mean()\n",
    "    score_list.append(score)\n",
    "print(max(score_list), score_list.index(max(score_list))+120)\n",
    "plt.figure(figsize=[20,5])\n",
    "plt.plot(range(120,140), score_list)\n",
    "plt.title(\"n_estimators fine tuning\", fontsize=25)\n",
    "plt.show()\n",
    "\n",
    "# find the best n_estimator is around 122"
   ]
  },
  {
   "cell_type": "markdown",
   "metadata": {},
   "source": [
    "#### try max_depth"
   ]
  },
  {
   "cell_type": "code",
   "execution_count": 24,
   "metadata": {},
   "outputs": [
    {
     "name": "stdout",
     "output_type": "stream",
     "text": [
      "0.9017241379310346 56\n"
     ]
    },
    {
     "data": {
      "image/png": "[encoded data removed]",
      "text/plain": [
       "<Figure size 1440x360 with 1 Axes>"
      ]
     },
     "metadata": {
      "needs_background": "light"
     },
     "output_type": "display_data"
    }
   ],
   "source": [
    "# max_depth\n",
    "score_list = []\n",
    "for i in range(1, 60, 5):\n",
    "    clf = RandomForestClassifier(n_estimators = 130, max_depth=i, n_jobs=-1, random_state=90)\n",
    "    score = cross_val_score(clf, X, Y, cv=10).mean()\n",
    "    score_list.append(score)\n",
    "print(max(score_list), score_list.index(max(score_list))*5+1)\n",
    "plt.figure(figsize=[20,5])\n",
    "plt.plot(range(1, 60, 5), score_list)\n",
    "plt.title(\"max_depth\", fontsize=25)\n",
    "plt.show()"
   ]
  },
  {
   "cell_type": "markdown",
   "metadata": {},
   "source": [
    "#### try min_samples_leaf"
   ]
  },
  {
   "cell_type": "code",
   "execution_count": 25,
   "metadata": {},
   "outputs": [
    {
     "name": "stdout",
     "output_type": "stream",
     "text": [
      "0.9017241379310346 1\n"
     ]
    },
    {
     "data": {
      "image/png": "[encoded data removed]",
      "text/plain": [
       "<Figure size 1440x360 with 1 Axes>"
      ]
     },
     "metadata": {
      "needs_background": "light"
     },
     "output_type": "display_data"
    }
   ],
   "source": [
    "# min_samples_leaf\n",
    "score_list = []\n",
    "for i in range(1, 20):\n",
    "    clf = RandomForestClassifier(n_estimators = 130, min_samples_leaf = i, max_depth=56, n_jobs=-1, random_state=90)\n",
    "    score = cross_val_score(clf, X, Y, cv=10).mean()\n",
    "    score_list.append(score)\n",
    "print(max(score_list), score_list.index(max(score_list))+1)\n",
    "plt.figure(figsize=[20,5])\n",
    "plt.plot(range(1,20), score_list)\n",
    "plt.title(\"min_samples_leaf\", fontsize=25)\n",
    "plt.show()"
   ]
  },
  {
   "cell_type": "markdown",
   "metadata": {},
   "source": [
    "#### try max_features"
   ]
  },
  {
   "cell_type": "code",
   "execution_count": 26,
   "metadata": {},
   "outputs": [
    {
     "name": "stdout",
     "output_type": "stream",
     "text": [
      "0.9024515086206897 1\n"
     ]
    },
    {
     "data": {
      "image/png": "[encoded data removed]",
      "text/plain": [
       "<Figure size 1440x360 with 1 Axes>"
      ]
     },
     "metadata": {
      "needs_background": "light"
     },
     "output_type": "display_data"
    }
   ],
   "source": [
    "# max_features\n",
    "\n",
    "score_list = []\n",
    "for i in range(1, 13):\n",
    "    clf = RandomForestClassifier(n_estimators = 130, max_features=i, n_jobs=-1, random_state=90)\n",
    "    score = cross_val_score(clf, X, Y, cv=10).mean()\n",
    "    score_list.append(score)\n",
    "print(max(score_list), score_list.index(max(score_list))+1)\n",
    "plt.figure(figsize=[20,5])\n",
    "plt.plot(range(1,13), score_list)\n",
    "plt.title(\"max_features\", fontsize=25)\n",
    "plt.show()"
   ]
  },
  {
   "cell_type": "markdown",
   "metadata": {},
   "source": [
    "#### compare entropy & gini"
   ]
  },
  {
   "cell_type": "code",
   "execution_count": 28,
   "metadata": {},
   "outputs": [
    {
     "name": "stdout",
     "output_type": "stream",
     "text": [
      "entropy\n",
      "accuracy 0.8937679597701149\n",
      "              precision    recall  f1-score   support\n",
      "\n",
      "           0       0.91      0.88      0.89      5579\n",
      "           1       0.88      0.91      0.90      5557\n",
      "\n",
      "    accuracy                           0.89     11136\n",
      "   macro avg       0.89      0.89      0.89     11136\n",
      "weighted avg       0.89      0.89      0.89     11136\n",
      "\n",
      "------------------\n",
      "gini\n",
      "accuracy 0.8935883620689655\n",
      "              precision    recall  f1-score   support\n",
      "\n",
      "           0       0.91      0.87      0.89      5579\n",
      "           1       0.88      0.91      0.90      5557\n",
      "\n",
      "    accuracy                           0.89     11136\n",
      "   macro avg       0.89      0.89      0.89     11136\n",
      "weighted avg       0.89      0.89      0.89     11136\n",
      "\n"
     ]
    }
   ],
   "source": [
    "# entropy\n",
    "clf1 = RandomForestClassifier(criterion='entropy',n_estimators=130, n_jobs = -1, random_state = 90)\n",
    "clf1.fit(X_train, Y_train)\n",
    "Y_pred1 = clf1.predict(X_val)\n",
    "print('entropy')\n",
    "print('accuracy', accuracy_score(Y_val, Y_pred1))\n",
    "print(classification_report(Y_val, Y_pred1))\n",
    "\n",
    "# gini\n",
    "clf2 = RandomForestClassifier(n_estimators=130, n_jobs = -1, random_state = 90)\n",
    "clf2.fit(X_train, Y_train)\n",
    "Y_pred2 = clf2.predict(X_val)\n",
    "print('------------------\\ngini')\n",
    "print('accuracy', accuracy_score(Y_val, Y_pred2))\n",
    "print(classification_report(Y_val, Y_pred2))\n",
    "# almost same, chose gini, faster"
   ]
  },
  {
   "cell_type": "markdown",
   "metadata": {},
   "source": [
    "### final model"
   ]
  },
  {
   "cell_type": "code",
   "execution_count": 29,
   "metadata": {},
   "outputs": [
    {
     "name": "stdout",
     "output_type": "stream",
     "text": [
      "accuracy 0.8935883620689655\n",
      "              precision    recall  f1-score   support\n",
      "\n",
      "           0       0.91      0.87      0.89      5579\n",
      "           1       0.88      0.91      0.90      5557\n",
      "\n",
      "    accuracy                           0.89     11136\n",
      "   macro avg       0.89      0.89      0.89     11136\n",
      "weighted avg       0.89      0.89      0.89     11136\n",
      "\n"
     ]
    }
   ],
   "source": [
    "clf = RandomForestClassifier(n_estimators=130, n_jobs = -1, random_state = 90)\n",
    "clf.fit(X_train, Y_train)\n",
    "Y_pred = clf.predict(X_val)\n",
    "print('accuracy', accuracy_score(Y_val, Y_pred))\n",
    "print(classification_report(Y_val, Y_pred))"
   ]
  },
  {
   "cell_type": "markdown",
   "metadata": {},
   "source": [
    "## predict test data"
   ]
  },
  {
   "cell_type": "code",
   "execution_count": 30,
   "metadata": {},
   "outputs": [
    {
     "name": "stdout",
     "output_type": "stream",
     "text": [
      "(24421,)\n"
     ]
    }
   ],
   "source": [
    "Y_test = clf.predict(X_test)\n",
    "print(Y_test.shape)"
   ]
  },
  {
   "cell_type": "markdown",
   "metadata": {},
   "source": [
    "### wirte predictions into file"
   ]
  },
  {
   "cell_type": "code",
   "execution_count": 31,
   "metadata": {},
   "outputs": [
    {
     "name": "stdout",
     "output_type": "stream",
     "text": [
      "   id  prediction\n",
      "0   1           0\n",
      "1   2           0\n",
      "2   3           0\n",
      "3   4           0\n",
      "4   5           0\n"
     ]
    }
   ],
   "source": [
    "# wirte into file\n",
    "df_res = pd.read_csv('../cs5228/sample_submission.csv')\n",
    "df_res['prediction'] = Y_test\n",
    "print(df_res.head())\n",
    "df_res.to_csv('../submissions/upsample_rf_submission.csv', index = False)"
   ]
  },
  {
   "cell_type": "markdown",
   "metadata": {},
   "source": [
    "### visualization to pdf"
   ]
  },
  {
   "cell_type": "code",
   "execution_count": 32,
   "metadata": {},
   "outputs": [],
   "source": [
    "# trees = clf.estimators_\n",
    "# # feature_list = X.columns\n",
    "# for index, model in enumerate(trees[:2]):\n",
    "#     filename = 'rf_tree' + str(index) + '.pdf'\n",
    "#     dot_data = tree.export_graphviz(model,\n",
    "#                                     feature_names=feature_list,\n",
    "# #                                     out_file=None,\n",
    "#                                     class_names=['not exceed50k', 'exceed50k'],\n",
    "#                                     filled=True,\n",
    "#                                     rounded=True,\n",
    "#                                    special_characters=True)\n",
    "#     graph = pydotplus.graph_from_dot_data(dot_data)\n",
    "#     Image(graph.create_png())\n",
    "#     graph.write_pdf(filename)"
   ]
  },
  {
   "cell_type": "code",
   "execution_count": null,
   "metadata": {},
   "outputs": [],
   "source": []
  }
 ],
 "metadata": {
  "kernelspec": {
   "display_name": "Python 3",
   "language": "python",
   "name": "python3"
  },
  "language_info": {
   "codemirror_mode": {
    "name": "ipython",
    "version": 3
   },
   "file_extension": ".py",
   "mimetype": "text/x-python",
   "name": "python",
   "nbconvert_exporter": "python",
   "pygments_lexer": "ipython3",
   "version": "3.7.7"
  }
 },
 "nbformat": 4,
 "nbformat_minor": 4
}
